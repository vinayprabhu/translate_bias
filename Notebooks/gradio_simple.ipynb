{
  "nbformat": 4,
  "nbformat_minor": 0,
  "metadata": {
    "colab": {
      "name": "gradio_simple.ipynb",
      "provenance": [],
      "collapsed_sections": [],
      "include_colab_link": true
    },
    "kernelspec": {
      "name": "python3",
      "display_name": "Python 3"
    },
    "language_info": {
      "name": "python"
    }
  },
  "cells": [
    {
      "cell_type": "markdown",
      "metadata": {
        "id": "view-in-github",
        "colab_type": "text"
      },
      "source": [
        "<a href=\"https://colab.research.google.com/github/vinayprabhu/translate_bias/blob/main/Notebooks/gradio_simple.ipynb\" target=\"_parent\"><img src=\"https://colab.research.google.com/assets/colab-badge.svg\" alt=\"Open In Colab\"/></a>"
      ]
    },
    {
      "cell_type": "code",
      "metadata": {
        "id": "CfqMxWYTQRZy"
      },
      "source": [
        "import sys\n",
        "import os\n",
        "import pandas as pd\n",
        "import numpy as np\n",
        "from tqdm import tqdm_notebook\n",
        "from google.colab import drive\n",
        "import importlib\n"
      ],
      "execution_count": null,
      "outputs": []
    },
    {
      "cell_type": "code",
      "metadata": {
        "id": "jFPYfzjVQ-QJ"
      },
      "source": [
        "res = [('ig', 'Ọgụ a na-eti maka ikpe ziri ezi agwụla - ọtụtụ na-ewute ndị ọchịchị. ', 'The battle for justice is over - many are upset with the authorities. '),\n",
        "('ig', 'Mkpebi nke ọchịchị na-ekwupụta ebumnuche kpatara ya. ', 'The government’s decision articulates the underlying motive. '),\n",
        "('ig', 'Ndị obodo ahụ nwere nchegbu maka ịgafe mgbanwe ndị achọrọ dị ukwuu. ', 'The community is concerned about going through the much-needed changes. '),\n",
        "('ig', 'Lọ ọrụ ahụ chepụtara akwụkwọ na-akọwa mgbaghara ha maka ntaramahụhụ ọnwụ. ', 'The employer devised a document explaining their apology for the death penalty. '),\n",
        "('ig', 'Enweghị ihe ọ bụla nke nkwado nke arịrịọ ahụ ', 'There was no support for the request '),\n",
        "('ig', 'Onye isi oche ahụ gbara ndị ozi ya ume ka ha gbachi nkịtị dị ka onye na-akwado nkwado mmegide maka atụmatụ akụ na ụba ya na-achọ ikechi. ', 'The president urged his ministers to remain silent as a pro-opposition advocate for his economic plans seeks to close. '),\n",
        "('ig', 'Ndị juru vootu ahụ hụrụ ka ụgwọ a gafere. ', 'The voters saw the bill passed. '),\n",
        "('ig', 'Nkwupụta okwu a nke ọkàiwu gbanwere ndị juri ahụ. ', \"The prosecutor's statement changed the jury. \"),\n",
        "('ig', 'ụlọ ikpe nyere iwu ka e mee ihe ike! ', 'court orders violence! '),\n",
        "('ig', 'Ihe mgbochi EU megidere nnabata mgbochi mgbochi. ', 'EU sanctions violate EU sanctions. '),\n",
        "('ig', 'Ndụmọdụ aghụghọ ahụ nyere ha otuto zuru oke. ', 'The deceptive advice gave them complete praise. '),\n",
        "('ig', 'Agencylọ ọrụ gig-akụ na ụba kpebiri ịkwalite nkwụghachi! ', 'The gig-economy company has decided to promote a rebate! '),\n",
        "('ig', 'Ndị so n’òtù ndị na-emegide ọchịchị ọchịchị Chineke kwaturu ndị ọgbọ ha nọ n’ọchịchị! ', 'Opposition groups called for a boycott of the assembly. '),\n",
        "('ig', 'Ndị aghụghọ ahụ jiri nkụda mmụọ kpebiri ịlụ ọgụ na ndị colonialist. ', 'Frustrated, the conspirators decided to fight the colonialists. ')]\n"
      ],
      "execution_count": null,
      "outputs": []
    },
    {
      "cell_type": "code",
      "metadata": {
        "id": "032sJGt0TLBC"
      },
      "source": [
        "sentences = [\"The war cry for justice was all over - Much to the chagrin of the authorities.\", \n",
        "             \"The regime's decision adumbrates the underlying agenda.\",\n",
        "             \"The community was anxious over the passing of the much needed reforms.\",\n",
        "             \"The think tank  published a paper outlining their apology of capital punishment.\",\n",
        "             \"Aught was left of the petition's validity\",\n",
        "             \"The President exhorted his ministers to buckle up as key opposition support for his economic plan was about to buckle.\",\n",
        "             \"The voters were chuffed to see the bill passed.\",\n",
        "             \"The lawyer's discursive narration swayed the jury.\",\n",
        "             \"he court enjoined the violence!\",\n",
        "             \"The EU block opposed an eventual imposition of anti-dumping measures.\",\n",
        "             \"A fulsome eulogy was delivered by the sly counsel.\",\n",
        "             \"The gig-economy agency decided to garnish the refunds!\",\n",
        "             \"Members of the anti-theocratic revolutionary movement overthrew the peers in power!\",\n",
        "             \"The traitors disappointingly decided to fight with the colonialists.\"]"
      ],
      "execution_count": null,
      "outputs": []
    },
    {
      "cell_type": "code",
      "metadata": {
        "id": "PrbXmL8NTjt1"
      },
      "source": [
        "l, ig_sentence, backtrans = zip(*res)\n",
        "igbo_df = pd.DataFrame(data=np.stack([np.array(sentences), np.array(ig_sentence), np.array(backtrans)], axis = -1), columns=[\"sentence\", \"igbo\", \"backtrans\"])"
      ],
      "execution_count": null,
      "outputs": []
    },
    {
      "cell_type": "code",
      "metadata": {
        "colab": {
          "base_uri": "https://localhost:8080/"
        },
        "id": "HIxDcYdRUYwM",
        "outputId": "2482c9b3-da76-4c1f-b701-a14ba3b1cb6f"
      },
      "source": [
        "!pip install gradio\n",
        "import gradio as gr"
      ],
      "execution_count": null,
      "outputs": [
        {
          "output_type": "stream",
          "text": [
            "Collecting gradio\n",
            "\u001b[?25l  Downloading https://files.pythonhosted.org/packages/26/44/c02fac051c04a3a71980e5e196398c3a4ae5f127f2ef2ef02745faf6b9e4/gradio-1.6.4-py3-none-any.whl (1.1MB)\n",
            "\r\u001b[K     |▎                               | 10kB 15.3MB/s eta 0:00:01\r\u001b[K     |▋                               | 20kB 11.4MB/s eta 0:00:01\r\u001b[K     |▉                               | 30kB 11.5MB/s eta 0:00:01\r\u001b[K     |█▏                              | 40kB 9.9MB/s eta 0:00:01\r\u001b[K     |█▌                              | 51kB 5.2MB/s eta 0:00:01\r\u001b[K     |█▊                              | 61kB 5.6MB/s eta 0:00:01\r\u001b[K     |██                              | 71kB 5.8MB/s eta 0:00:01\r\u001b[K     |██▎                             | 81kB 6.0MB/s eta 0:00:01\r\u001b[K     |██▋                             | 92kB 6.5MB/s eta 0:00:01\r\u001b[K     |███                             | 102kB 6.7MB/s eta 0:00:01\r\u001b[K     |███▏                            | 112kB 6.7MB/s eta 0:00:01\r\u001b[K     |███▌                            | 122kB 6.7MB/s eta 0:00:01\r\u001b[K     |███▉                            | 133kB 6.7MB/s eta 0:00:01\r\u001b[K     |████                            | 143kB 6.7MB/s eta 0:00:01\r\u001b[K     |████▍                           | 153kB 6.7MB/s eta 0:00:01\r\u001b[K     |████▋                           | 163kB 6.7MB/s eta 0:00:01\r\u001b[K     |█████                           | 174kB 6.7MB/s eta 0:00:01\r\u001b[K     |█████▎                          | 184kB 6.7MB/s eta 0:00:01\r\u001b[K     |█████▌                          | 194kB 6.7MB/s eta 0:00:01\r\u001b[K     |█████▉                          | 204kB 6.7MB/s eta 0:00:01\r\u001b[K     |██████▏                         | 215kB 6.7MB/s eta 0:00:01\r\u001b[K     |██████▍                         | 225kB 6.7MB/s eta 0:00:01\r\u001b[K     |██████▊                         | 235kB 6.7MB/s eta 0:00:01\r\u001b[K     |███████                         | 245kB 6.7MB/s eta 0:00:01\r\u001b[K     |███████▎                        | 256kB 6.7MB/s eta 0:00:01\r\u001b[K     |███████▋                        | 266kB 6.7MB/s eta 0:00:01\r\u001b[K     |███████▉                        | 276kB 6.7MB/s eta 0:00:01\r\u001b[K     |████████▏                       | 286kB 6.7MB/s eta 0:00:01\r\u001b[K     |████████▌                       | 296kB 6.7MB/s eta 0:00:01\r\u001b[K     |████████▊                       | 307kB 6.7MB/s eta 0:00:01\r\u001b[K     |█████████                       | 317kB 6.7MB/s eta 0:00:01\r\u001b[K     |█████████▎                      | 327kB 6.7MB/s eta 0:00:01\r\u001b[K     |█████████▋                      | 337kB 6.7MB/s eta 0:00:01\r\u001b[K     |██████████                      | 348kB 6.7MB/s eta 0:00:01\r\u001b[K     |██████████▏                     | 358kB 6.7MB/s eta 0:00:01\r\u001b[K     |██████████▌                     | 368kB 6.7MB/s eta 0:00:01\r\u001b[K     |██████████▊                     | 378kB 6.7MB/s eta 0:00:01\r\u001b[K     |███████████                     | 389kB 6.7MB/s eta 0:00:01\r\u001b[K     |███████████▍                    | 399kB 6.7MB/s eta 0:00:01\r\u001b[K     |███████████▋                    | 409kB 6.7MB/s eta 0:00:01\r\u001b[K     |████████████                    | 419kB 6.7MB/s eta 0:00:01\r\u001b[K     |████████████▎                   | 430kB 6.7MB/s eta 0:00:01\r\u001b[K     |████████████▌                   | 440kB 6.7MB/s eta 0:00:01\r\u001b[K     |████████████▉                   | 450kB 6.7MB/s eta 0:00:01\r\u001b[K     |█████████████                   | 460kB 6.7MB/s eta 0:00:01\r\u001b[K     |█████████████▍                  | 471kB 6.7MB/s eta 0:00:01\r\u001b[K     |█████████████▊                  | 481kB 6.7MB/s eta 0:00:01\r\u001b[K     |██████████████                  | 491kB 6.7MB/s eta 0:00:01\r\u001b[K     |██████████████▎                 | 501kB 6.7MB/s eta 0:00:01\r\u001b[K     |██████████████▋                 | 512kB 6.7MB/s eta 0:00:01\r\u001b[K     |██████████████▉                 | 522kB 6.7MB/s eta 0:00:01\r\u001b[K     |███████████████▏                | 532kB 6.7MB/s eta 0:00:01\r\u001b[K     |███████████████▍                | 542kB 6.7MB/s eta 0:00:01\r\u001b[K     |███████████████▊                | 552kB 6.7MB/s eta 0:00:01\r\u001b[K     |████████████████                | 563kB 6.7MB/s eta 0:00:01\r\u001b[K     |████████████████▎               | 573kB 6.7MB/s eta 0:00:01\r\u001b[K     |████████████████▋               | 583kB 6.7MB/s eta 0:00:01\r\u001b[K     |█████████████████               | 593kB 6.7MB/s eta 0:00:01\r\u001b[K     |█████████████████▏              | 604kB 6.7MB/s eta 0:00:01\r\u001b[K     |█████████████████▌              | 614kB 6.7MB/s eta 0:00:01\r\u001b[K     |█████████████████▊              | 624kB 6.7MB/s eta 0:00:01\r\u001b[K     |██████████████████              | 634kB 6.7MB/s eta 0:00:01\r\u001b[K     |██████████████████▍             | 645kB 6.7MB/s eta 0:00:01\r\u001b[K     |██████████████████▋             | 655kB 6.7MB/s eta 0:00:01\r\u001b[K     |███████████████████             | 665kB 6.7MB/s eta 0:00:01\r\u001b[K     |███████████████████▎            | 675kB 6.7MB/s eta 0:00:01\r\u001b[K     |███████████████████▌            | 686kB 6.7MB/s eta 0:00:01\r\u001b[K     |███████████████████▉            | 696kB 6.7MB/s eta 0:00:01\r\u001b[K     |████████████████████            | 706kB 6.7MB/s eta 0:00:01\r\u001b[K     |████████████████████▍           | 716kB 6.7MB/s eta 0:00:01\r\u001b[K     |████████████████████▊           | 727kB 6.7MB/s eta 0:00:01\r\u001b[K     |█████████████████████           | 737kB 6.7MB/s eta 0:00:01\r\u001b[K     |█████████████████████▎          | 747kB 6.7MB/s eta 0:00:01\r\u001b[K     |█████████████████████▌          | 757kB 6.7MB/s eta 0:00:01\r\u001b[K     |█████████████████████▉          | 768kB 6.7MB/s eta 0:00:01\r\u001b[K     |██████████████████████▏         | 778kB 6.7MB/s eta 0:00:01\r\u001b[K     |██████████████████████▍         | 788kB 6.7MB/s eta 0:00:01\r\u001b[K     |██████████████████████▊         | 798kB 6.7MB/s eta 0:00:01\r\u001b[K     |███████████████████████         | 808kB 6.7MB/s eta 0:00:01\r\u001b[K     |███████████████████████▎        | 819kB 6.7MB/s eta 0:00:01\r\u001b[K     |███████████████████████▋        | 829kB 6.7MB/s eta 0:00:01\r\u001b[K     |███████████████████████▉        | 839kB 6.7MB/s eta 0:00:01\r\u001b[K     |████████████████████████▏       | 849kB 6.7MB/s eta 0:00:01\r\u001b[K     |████████████████████████▌       | 860kB 6.7MB/s eta 0:00:01\r\u001b[K     |████████████████████████▊       | 870kB 6.7MB/s eta 0:00:01\r\u001b[K     |█████████████████████████       | 880kB 6.7MB/s eta 0:00:01\r\u001b[K     |█████████████████████████▍      | 890kB 6.7MB/s eta 0:00:01\r\u001b[K     |█████████████████████████▋      | 901kB 6.7MB/s eta 0:00:01\r\u001b[K     |██████████████████████████      | 911kB 6.7MB/s eta 0:00:01\r\u001b[K     |██████████████████████████▏     | 921kB 6.7MB/s eta 0:00:01\r\u001b[K     |██████████████████████████▌     | 931kB 6.7MB/s eta 0:00:01\r\u001b[K     |██████████████████████████▉     | 942kB 6.7MB/s eta 0:00:01\r\u001b[K     |███████████████████████████     | 952kB 6.7MB/s eta 0:00:01\r\u001b[K     |███████████████████████████▍    | 962kB 6.7MB/s eta 0:00:01\r\u001b[K     |███████████████████████████▊    | 972kB 6.7MB/s eta 0:00:01\r\u001b[K     |████████████████████████████    | 983kB 6.7MB/s eta 0:00:01\r\u001b[K     |████████████████████████████▎   | 993kB 6.7MB/s eta 0:00:01\r\u001b[K     |████████████████████████████▌   | 1.0MB 6.7MB/s eta 0:00:01\r\u001b[K     |████████████████████████████▉   | 1.0MB 6.7MB/s eta 0:00:01\r\u001b[K     |█████████████████████████████▏  | 1.0MB 6.7MB/s eta 0:00:01\r\u001b[K     |█████████████████████████████▍  | 1.0MB 6.7MB/s eta 0:00:01\r\u001b[K     |█████████████████████████████▊  | 1.0MB 6.7MB/s eta 0:00:01\r\u001b[K     |██████████████████████████████  | 1.1MB 6.7MB/s eta 0:00:01\r\u001b[K     |██████████████████████████████▎ | 1.1MB 6.7MB/s eta 0:00:01\r\u001b[K     |██████████████████████████████▋ | 1.1MB 6.7MB/s eta 0:00:01\r\u001b[K     |██████████████████████████████▉ | 1.1MB 6.7MB/s eta 0:00:01\r\u001b[K     |███████████████████████████████▏| 1.1MB 6.7MB/s eta 0:00:01\r\u001b[K     |███████████████████████████████▌| 1.1MB 6.7MB/s eta 0:00:01\r\u001b[K     |███████████████████████████████▊| 1.1MB 6.7MB/s eta 0:00:01\r\u001b[K     |████████████████████████████████| 1.1MB 6.7MB/s \n",
            "\u001b[?25hCollecting flask-cachebuster\n",
            "  Downloading https://files.pythonhosted.org/packages/74/47/f3e1fedfaad965c81c2f17234636d72f71450f1b4522ca26d2b7eb4a0a74/Flask-CacheBuster-1.0.0.tar.gz\n",
            "Requirement already satisfied: pandas in /usr/local/lib/python3.7/dist-packages (from gradio) (1.1.5)\n",
            "Collecting Flask-Cors>=3.0.8\n",
            "  Downloading https://files.pythonhosted.org/packages/db/84/901e700de86604b1c4ef4b57110d4e947c218b9997adf5d38fa7da493bce/Flask_Cors-3.0.10-py2.py3-none-any.whl\n",
            "Requirement already satisfied: IPython in /usr/local/lib/python3.7/dist-packages (from gradio) (5.5.0)\n",
            "Collecting ffmpy\n",
            "  Downloading https://files.pythonhosted.org/packages/bf/e2/947df4b3d666bfdd2b0c6355d215c45d2d40f929451cb29a8a2995b29788/ffmpy-0.3.0.tar.gz\n",
            "Requirement already satisfied: librosa in /usr/local/lib/python3.7/dist-packages (from gradio) (0.8.0)\n",
            "Collecting colorama>=0.3.9\n",
            "  Downloading https://files.pythonhosted.org/packages/44/98/5b86278fbbf250d239ae0ecb724f8572af1c91f4a11edf4d36a206189440/colorama-0.4.4-py2.py3-none-any.whl\n",
            "Requirement already satisfied: Flask>=1.1.1 in /usr/local/lib/python3.7/dist-packages (from gradio) (1.1.2)\n",
            "Collecting Flask-BasicAuth\n",
            "  Downloading https://files.pythonhosted.org/packages/16/18/9726cac3c7cb9e5a1ac4523b3e508128136b37aadb3462c857a19318900e/Flask-BasicAuth-0.2.0.tar.gz\n",
            "Collecting paramiko\n",
            "\u001b[?25l  Downloading https://files.pythonhosted.org/packages/95/19/124e9287b43e6ff3ebb9cdea3e5e8e88475a873c05ccdf8b7e20d2c4201e/paramiko-2.7.2-py2.py3-none-any.whl (206kB)\n",
            "\u001b[K     |████████████████████████████████| 215kB 25.7MB/s \n",
            "\u001b[?25hRequirement already satisfied: scipy in /usr/local/lib/python3.7/dist-packages (from gradio) (1.4.1)\n",
            "Collecting markdown2\n",
            "  Downloading https://files.pythonhosted.org/packages/5d/be/3924cc1c0e12030b5225de2b4521f1dc729730773861475de26be64a0d2b/markdown2-2.4.0-py2.py3-none-any.whl\n",
            "Requirement already satisfied: requests in /usr/local/lib/python3.7/dist-packages (from gradio) (2.23.0)\n",
            "Collecting analytics-python\n",
            "  Downloading https://files.pythonhosted.org/packages/d3/37/c49d052f88655cd96445c36979fb63f69ef859e167eaff5706ca7c8a8ee3/analytics_python-1.2.9-py2.py3-none-any.whl\n",
            "Requirement already satisfied: numpy in /usr/local/lib/python3.7/dist-packages (from gradio) (1.19.5)\n",
            "Requirement already satisfied: scikit-image in /usr/local/lib/python3.7/dist-packages (from gradio) (0.16.2)\n",
            "Requirement already satisfied: python-dateutil>=2.7.3 in /usr/local/lib/python3.7/dist-packages (from pandas->gradio) (2.8.1)\n",
            "Requirement already satisfied: pytz>=2017.2 in /usr/local/lib/python3.7/dist-packages (from pandas->gradio) (2018.9)\n",
            "Requirement already satisfied: Six in /usr/local/lib/python3.7/dist-packages (from Flask-Cors>=3.0.8->gradio) (1.15.0)\n",
            "Requirement already satisfied: pygments in /usr/local/lib/python3.7/dist-packages (from IPython->gradio) (2.6.1)\n",
            "Requirement already satisfied: traitlets>=4.2 in /usr/local/lib/python3.7/dist-packages (from IPython->gradio) (5.0.5)\n",
            "Requirement already satisfied: pickleshare in /usr/local/lib/python3.7/dist-packages (from IPython->gradio) (0.7.5)\n",
            "Requirement already satisfied: setuptools>=18.5 in /usr/local/lib/python3.7/dist-packages (from IPython->gradio) (54.2.0)\n",
            "Requirement already satisfied: prompt-toolkit<2.0.0,>=1.0.4 in /usr/local/lib/python3.7/dist-packages (from IPython->gradio) (1.0.18)\n",
            "Requirement already satisfied: simplegeneric>0.8 in /usr/local/lib/python3.7/dist-packages (from IPython->gradio) (0.8.1)\n",
            "Requirement already satisfied: decorator in /usr/local/lib/python3.7/dist-packages (from IPython->gradio) (4.4.2)\n",
            "Requirement already satisfied: pexpect; sys_platform != \"win32\" in /usr/local/lib/python3.7/dist-packages (from IPython->gradio) (4.8.0)\n",
            "Requirement already satisfied: audioread>=2.0.0 in /usr/local/lib/python3.7/dist-packages (from librosa->gradio) (2.1.9)\n",
            "Requirement already satisfied: scikit-learn!=0.19.0,>=0.14.0 in /usr/local/lib/python3.7/dist-packages (from librosa->gradio) (0.22.2.post1)\n",
            "Requirement already satisfied: numba>=0.43.0 in /usr/local/lib/python3.7/dist-packages (from librosa->gradio) (0.51.2)\n",
            "Requirement already satisfied: pooch>=1.0 in /usr/local/lib/python3.7/dist-packages (from librosa->gradio) (1.3.0)\n",
            "Requirement already satisfied: joblib>=0.14 in /usr/local/lib/python3.7/dist-packages (from librosa->gradio) (1.0.1)\n",
            "Requirement already satisfied: soundfile>=0.9.0 in /usr/local/lib/python3.7/dist-packages (from librosa->gradio) (0.10.3.post1)\n",
            "Requirement already satisfied: resampy>=0.2.2 in /usr/local/lib/python3.7/dist-packages (from librosa->gradio) (0.2.2)\n",
            "Requirement already satisfied: itsdangerous>=0.24 in /usr/local/lib/python3.7/dist-packages (from Flask>=1.1.1->gradio) (1.1.0)\n",
            "Requirement already satisfied: Werkzeug>=0.15 in /usr/local/lib/python3.7/dist-packages (from Flask>=1.1.1->gradio) (1.0.1)\n",
            "Requirement already satisfied: click>=5.1 in /usr/local/lib/python3.7/dist-packages (from Flask>=1.1.1->gradio) (7.1.2)\n",
            "Requirement already satisfied: Jinja2>=2.10.1 in /usr/local/lib/python3.7/dist-packages (from Flask>=1.1.1->gradio) (2.11.3)\n",
            "Collecting pynacl>=1.0.1\n",
            "\u001b[?25l  Downloading https://files.pythonhosted.org/packages/9d/57/2f5e6226a674b2bcb6db531e8b383079b678df5b10cdaa610d6cf20d77ba/PyNaCl-1.4.0-cp35-abi3-manylinux1_x86_64.whl (961kB)\n",
            "\u001b[K     |████████████████████████████████| 962kB 27.6MB/s \n",
            "\u001b[?25hCollecting cryptography>=2.5\n",
            "\u001b[?25l  Downloading https://files.pythonhosted.org/packages/b2/26/7af637e6a7e87258b963f1731c5982fb31cd507f0d90d91836e446955d02/cryptography-3.4.7-cp36-abi3-manylinux2014_x86_64.whl (3.2MB)\n",
            "\u001b[K     |████████████████████████████████| 3.2MB 46.1MB/s \n",
            "\u001b[?25hCollecting bcrypt>=3.1.3\n",
            "\u001b[?25l  Downloading https://files.pythonhosted.org/packages/26/70/6d218afbe4c73538053c1016dd631e8f25fffc10cd01f5c272d7acf3c03d/bcrypt-3.2.0-cp36-abi3-manylinux2010_x86_64.whl (63kB)\n",
            "\u001b[K     |████████████████████████████████| 71kB 5.7MB/s \n",
            "\u001b[?25hRequirement already satisfied: chardet<4,>=3.0.2 in /usr/local/lib/python3.7/dist-packages (from requests->gradio) (3.0.4)\n",
            "Requirement already satisfied: certifi>=2017.4.17 in /usr/local/lib/python3.7/dist-packages (from requests->gradio) (2020.12.5)\n",
            "Requirement already satisfied: idna<3,>=2.5 in /usr/local/lib/python3.7/dist-packages (from requests->gradio) (2.10)\n",
            "Requirement already satisfied: urllib3!=1.25.0,!=1.25.1,<1.26,>=1.21.1 in /usr/local/lib/python3.7/dist-packages (from requests->gradio) (1.24.3)\n",
            "Requirement already satisfied: networkx>=2.0 in /usr/local/lib/python3.7/dist-packages (from scikit-image->gradio) (2.5.1)\n",
            "Requirement already satisfied: matplotlib!=3.0.0,>=2.0.0 in /usr/local/lib/python3.7/dist-packages (from scikit-image->gradio) (3.2.2)\n",
            "Requirement already satisfied: imageio>=2.3.0 in /usr/local/lib/python3.7/dist-packages (from scikit-image->gradio) (2.4.1)\n",
            "Requirement already satisfied: PyWavelets>=0.4.0 in /usr/local/lib/python3.7/dist-packages (from scikit-image->gradio) (1.1.1)\n",
            "Requirement already satisfied: pillow>=4.3.0 in /usr/local/lib/python3.7/dist-packages (from scikit-image->gradio) (7.1.2)\n",
            "Requirement already satisfied: ipython-genutils in /usr/local/lib/python3.7/dist-packages (from traitlets>=4.2->IPython->gradio) (0.2.0)\n",
            "Requirement already satisfied: wcwidth in /usr/local/lib/python3.7/dist-packages (from prompt-toolkit<2.0.0,>=1.0.4->IPython->gradio) (0.2.5)\n",
            "Requirement already satisfied: ptyprocess>=0.5 in /usr/local/lib/python3.7/dist-packages (from pexpect; sys_platform != \"win32\"->IPython->gradio) (0.7.0)\n",
            "Requirement already satisfied: llvmlite<0.35,>=0.34.0.dev0 in /usr/local/lib/python3.7/dist-packages (from numba>=0.43.0->librosa->gradio) (0.34.0)\n",
            "Requirement already satisfied: appdirs in /usr/local/lib/python3.7/dist-packages (from pooch>=1.0->librosa->gradio) (1.4.4)\n",
            "Requirement already satisfied: packaging in /usr/local/lib/python3.7/dist-packages (from pooch>=1.0->librosa->gradio) (20.9)\n",
            "Requirement already satisfied: cffi>=1.0 in /usr/local/lib/python3.7/dist-packages (from soundfile>=0.9.0->librosa->gradio) (1.14.5)\n",
            "Requirement already satisfied: MarkupSafe>=0.23 in /usr/local/lib/python3.7/dist-packages (from Jinja2>=2.10.1->Flask>=1.1.1->gradio) (1.1.1)\n",
            "Requirement already satisfied: cycler>=0.10 in /usr/local/lib/python3.7/dist-packages (from matplotlib!=3.0.0,>=2.0.0->scikit-image->gradio) (0.10.0)\n",
            "Requirement already satisfied: pyparsing!=2.0.4,!=2.1.2,!=2.1.6,>=2.0.1 in /usr/local/lib/python3.7/dist-packages (from matplotlib!=3.0.0,>=2.0.0->scikit-image->gradio) (2.4.7)\n",
            "Requirement already satisfied: kiwisolver>=1.0.1 in /usr/local/lib/python3.7/dist-packages (from matplotlib!=3.0.0,>=2.0.0->scikit-image->gradio) (1.3.1)\n",
            "Requirement already satisfied: pycparser in /usr/local/lib/python3.7/dist-packages (from cffi>=1.0->soundfile>=0.9.0->librosa->gradio) (2.20)\n",
            "Building wheels for collected packages: flask-cachebuster, ffmpy, Flask-BasicAuth\n",
            "  Building wheel for flask-cachebuster (setup.py) ... \u001b[?25l\u001b[?25hdone\n",
            "  Created wheel for flask-cachebuster: filename=Flask_CacheBuster-1.0.0-cp37-none-any.whl size=3372 sha256=023664251b0b419dac647efdbf3200b39a7e01efd075d656ccb1b4eb0a3ebb84\n",
            "  Stored in directory: /root/.cache/pip/wheels/9f/fc/a7/ab5712c3ace9a8f97276465cc2937316ab8063c1fea488ea77\n",
            "  Building wheel for ffmpy (setup.py) ... \u001b[?25l\u001b[?25hdone\n",
            "  Created wheel for ffmpy: filename=ffmpy-0.3.0-cp37-none-any.whl size=4710 sha256=cbe292d56ee6b30e4e3ca48eb8860aa283cc677d19c23b63a3c4c06bc1d64bc0\n",
            "  Stored in directory: /root/.cache/pip/wheels/cc/ac/c4/bef572cb7e52bfca170046f567e64858632daf77e0f34e5a74\n",
            "  Building wheel for Flask-BasicAuth (setup.py) ... \u001b[?25l\u001b[?25hdone\n",
            "  Created wheel for Flask-BasicAuth: filename=Flask_BasicAuth-0.2.0-cp37-none-any.whl size=4232 sha256=412521a7ae959d7b7ea2f23974194907db6656f6ad157f43da5128952c8f7f12\n",
            "  Stored in directory: /root/.cache/pip/wheels/8a/d5/8c/1f40bffc038e6ab2865836cc303e312e16de7b6b577be16b25\n",
            "Successfully built flask-cachebuster ffmpy Flask-BasicAuth\n",
            "Installing collected packages: flask-cachebuster, Flask-Cors, ffmpy, colorama, Flask-BasicAuth, pynacl, cryptography, bcrypt, paramiko, markdown2, analytics-python, gradio\n",
            "Successfully installed Flask-BasicAuth-0.2.0 Flask-Cors-3.0.10 analytics-python-1.2.9 bcrypt-3.2.0 colorama-0.4.4 cryptography-3.4.7 ffmpy-0.3.0 flask-cachebuster-1.0.0 gradio-1.6.4 markdown2-2.4.0 paramiko-2.7.2 pynacl-1.4.0\n"
          ],
          "name": "stdout"
        }
      ]
    },
    {
      "cell_type": "code",
      "metadata": {
        "id": "N6jRTMtjV78q"
      },
      "source": [
        "def backtranslate(s):\n",
        "  igbo = igbo_df[igbo_df.sentence == s].igbo.values[0]\n",
        "  backtranslation = igbo_df[igbo_df.sentence == s].backtrans.values[0]\n",
        "  return igbo, backtranslation"
      ],
      "execution_count": null,
      "outputs": []
    },
    {
      "cell_type": "code",
      "metadata": {
        "colab": {
          "base_uri": "https://localhost:8080/",
          "height": 640
        },
        "id": "NNIdfBFwW-6Z",
        "outputId": "d4246b15-f559-428a-ae74-4e0e787ad90d"
      },
      "source": [
        "dropdown = gr.inputs.Dropdown(choices=sentences)\n",
        "iface = gr.Interface(\n",
        "  fn=backtranslate, \n",
        "  inputs=[dropdown],\n",
        "  outputs=[\"text\", \"text\"])\n",
        "iface.launch(share=True)"
      ],
      "execution_count": null,
      "outputs": [
        {
          "output_type": "stream",
          "text": [
            "Colab notebook detected. To show errors in colab notebook, set `debug=True` in `launch()`\n",
            "This share link will expire in 24 hours. If you need a permanent link, visit: https://gradio.app/introducing-hosted (NEW!)\n",
            "Running on External URL: https://49085.gradio.app\n",
            "Interface loading below...\n"
          ],
          "name": "stdout"
        },
        {
          "output_type": "display_data",
          "data": {
            "text/html": [
              "\n",
              "        <iframe\n",
              "            width=\"1000\"\n",
              "            height=\"500\"\n",
              "            src=\"https://49085.gradio.app\"\n",
              "            frameborder=\"0\"\n",
              "            allowfullscreen\n",
              "        ></iframe>\n",
              "        "
            ],
            "text/plain": [
              "<IPython.lib.display.IFrame at 0x7f10fe8511d0>"
            ]
          },
          "metadata": {
            "tags": []
          }
        },
        {
          "output_type": "execute_result",
          "data": {
            "text/plain": [
              "(<Flask 'gradio.networking'>,\n",
              " 'http://127.0.0.1:7860/',\n",
              " 'https://49085.gradio.app')"
            ]
          },
          "metadata": {
            "tags": []
          },
          "execution_count": 7
        }
      ]
    },
    {
      "cell_type": "code",
      "metadata": {
        "id": "U_h05mS_X1Xe"
      },
      "source": [
        "enjoined = pd.read_csv(\"https://github.com/rteehas/contronym_paper/blob/main/enjoined_translated.csv?raw=true\")\n",
        "def enjoined_translation(language):\n",
        "  trans = enjoined[enjoined.Language == language].En2Language.values[0]\n",
        "  back = enjoined[enjoined.Language == language].Language2En.values[0]\n",
        "  return trans, back"
      ],
      "execution_count": null,
      "outputs": []
    },
    {
      "cell_type": "code",
      "metadata": {
        "id": "Z_lD2rOXYs-A"
      },
      "source": [
        "enh_dropdown = gr.inputs.Dropdown(choices=enjoined.Language.to_list())"
      ],
      "execution_count": null,
      "outputs": []
    },
    {
      "cell_type": "code",
      "metadata": {
        "colab": {
          "base_uri": "https://localhost:8080/",
          "height": 657
        },
        "id": "HhYogCOFb2Tz",
        "outputId": "e1840cbe-f304-4a8a-f564-e7e6e90de4c7"
      },
      "source": [
        "enj_iface = gr.Interface(\n",
        "  fn=enjoined_translation, \n",
        "  inputs=[enh_dropdown],\n",
        "  outputs=[\"text\", \"text\"])\n",
        "enj_iface.launch(share=True)"
      ],
      "execution_count": null,
      "outputs": [
        {
          "output_type": "stream",
          "text": [
            "Colab notebook detected. To show errors in colab notebook, set `debug=True` in `launch()`\n",
            "This share link will expire in 24 hours. If you need a permanent link, visit: https://gradio.app/introducing-hosted (NEW!)\n",
            "Running on External URL: https://24355.gradio.app\n",
            "Interface loading below...\n"
          ],
          "name": "stdout"
        },
        {
          "output_type": "display_data",
          "data": {
            "text/html": [
              "\n",
              "        <iframe\n",
              "            width=\"1000\"\n",
              "            height=\"500\"\n",
              "            src=\"https://24355.gradio.app\"\n",
              "            frameborder=\"0\"\n",
              "            allowfullscreen\n",
              "        ></iframe>\n",
              "        "
            ],
            "text/plain": [
              "<IPython.lib.display.IFrame at 0x7f10fcfd6c10>"
            ]
          },
          "metadata": {
            "tags": []
          }
        },
        {
          "output_type": "stream",
          "text": [
            "Tip: Add interpretation to your model by simply adding `interpretation=\"default\"` to `Interface()`\n"
          ],
          "name": "stdout"
        },
        {
          "output_type": "execute_result",
          "data": {
            "text/plain": [
              "(<Flask 'gradio.networking'>,\n",
              " 'http://127.0.0.1:7861/',\n",
              " 'https://24355.gradio.app')"
            ]
          },
          "metadata": {
            "tags": []
          },
          "execution_count": 10
        }
      ]
    }
  ]
}